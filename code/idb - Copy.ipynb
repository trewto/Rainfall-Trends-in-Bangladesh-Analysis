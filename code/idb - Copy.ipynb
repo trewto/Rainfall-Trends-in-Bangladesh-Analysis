{
 "cells": [
  {
   "cell_type": "code",
   "execution_count": 39,
   "metadata": {},
   "outputs": [],
   "source": [
    "import numpy as np\n",
    "import pandas as pd\n",
    "import geopandas as gpd\n",
    "import matplotlib.pyplot as plt\n",
    "from shapely.geometry import Point\n",
    "from matplotlib.colors import TwoSlopeNorm\n"
   ]
  },
  {
   "cell_type": "code",
   "execution_count": 40,
   "metadata": {},
   "outputs": [],
   "source": [
    "df = pd.read_csv('with LongLat_rainfall_trend_results.csv')\n",
    "\n",
    "# Convert degrees and minutes to decimal degrees for latitude and longitude\n",
    "df['latitude'] = df['Lat (Deg)'] + df['Lat (Min)'] / 60\n",
    "df['longitude'] = df['Long (Deg)'] + df['Long (Min)'] / 60\n",
    "\n",
    "# Load Bangladesh boundary\n",
    "bd_gdf = gpd.read_file('geoBoundaries-BGD-ADM0_simplified.geojson')\n"
   ]
  },
  {
   "cell_type": "code",
   "execution_count": 42,
   "metadata": {},
   "outputs": [],
   "source": [
    "#Prepare data for interpolation\n",
    "x = df['longitude'].values\n",
    "y = df['latitude'].values\n"
   ]
  },
  {
   "cell_type": "markdown",
   "metadata": {},
   "source": [
    "IDW METHOD "
   ]
  },
  {
   "cell_type": "code",
   "execution_count": null,
   "metadata": {},
   "outputs": [],
   "source": [
    "# Loop through each month\n",
    "for p in range(3, 5):  # For months 1 to 12\n",
    "    month_name = str(p)\n",
    "    z = df[month_name].values  # Replace with the correct column for data\n",
    "    \n",
    "    print(z)\n",
    "    \n",
    "    # Create a grid for interpolation\n",
    "    krig_bounds_xmin = bd_gdf.bounds.minx.iloc[0]\n",
    "    krig_bounds_xmax = bd_gdf.bounds.maxx.iloc[0]\n",
    "    krig_bounds_ymin = bd_gdf.bounds.miny.iloc[0]\n",
    "    krig_bounds_ymax = bd_gdf.bounds.maxy.iloc[0]\n",
    "\n",
    "    # Grid resolution\n",
    "    horizontal_distance = krig_bounds_xmax - krig_bounds_xmin\n",
    "    horizontal_resolution = 300  # Higher = more time/memory\n",
    "    use_resolution = horizontal_distance / horizontal_resolution\n",
    "\n",
    "    gridx = np.arange(krig_bounds_xmin, krig_bounds_xmax, use_resolution)\n",
    "    gridy = np.arange(krig_bounds_ymin, krig_bounds_ymax, use_resolution)\n",
    "    xx, yy = np.meshgrid(gridx, gridy)\n",
    "\n",
    "    # IDW Function\n",
    "    def idw_interpolation(x, y, z, gridx, gridy, power=2):\n",
    "        \"\"\"Perform Inverse Distance Weighting (IDW) interpolation.\"\"\"\n",
    "        interpolated = np.zeros_like(xx, dtype=float)\n",
    "        for i in range(xx.shape[0]):\n",
    "            for j in range(xx.shape[1]):\n",
    "                distances = np.sqrt((x - xx[i, j]) ** 2 + (y - yy[i, j]) ** 2)\n",
    "                weights = 1 / (distances ** power + 1e-10)  # Avoid division by zero\n",
    "                interpolated[i, j] = np.sum(weights * z) / np.sum(weights)\n",
    "        return interpolated\n",
    "\n",
    "    # Apply IDW\n",
    "    z_interp = idw_interpolation(x, y, z, gridx, gridy)\n",
    "\n",
    "    # Mask the data outside the boundary\n",
    "    points = [Point(px, py) for px, py in zip(xx.flatten(), yy.flatten())]\n",
    "    mask = np.array([bd_gdf.contains(point).any() for point in points]).reshape(xx.shape)\n",
    "    z_interp_masked = np.ma.masked_array(z_interp, mask=~mask)\n",
    "\n",
    "    # Ensure vmin, vcenter, and vmax are in ascending order\n",
    "    vmin = z_interp_masked.min()\n",
    "    vmax = z_interp_masked.max()\n",
    "\n",
    "    # Adjust vmin and vmax if needed\n",
    "    if vmin >= 0:\n",
    "        vmin = -0.1  # Ensure vmin is less than 0 for proper divergence\n",
    "    if vmax <= 0:\n",
    "        vmax = 0.1  # Ensure vmax is greater than 0 for proper divergence\n",
    "\n",
    "    # Create the TwoSlopeNorm\n",
    "    norm = TwoSlopeNorm(vmin=vmin, vcenter=0, vmax=vmax)\n",
    "\n",
    "    # Plot the results\n",
    "    fig, ax = plt.subplots(figsize=(10, 10))\n",
    "    bd_gdf.plot(ax=ax, color='none', edgecolor='black', linewidth=1)\n",
    "\n",
    "    im = ax.imshow(\n",
    "        z_interp_masked,\n",
    "        extent=[krig_bounds_xmin, krig_bounds_xmax, krig_bounds_ymin, krig_bounds_ymax],\n",
    "        origin='lower',\n",
    "        cmap='RdYlBu',  # Diverging colormap (Red-Yellow-Blue)\n",
    "        #alpha=0.7,\n",
    "        alpha=0.5,\n",
    "        norm=norm,  # Apply TwoSlopeNorm\n",
    "    )\n",
    "    plt.colorbar(im, ax=ax, label='Interpolated Data')\n",
    "    ax.scatter(x, y, c='red', s=30, edgecolor='black', label='Stations')\n",
    "\n",
    "    ax.set_xlabel('Longitude')\n",
    "    ax.set_ylabel('Latitude')\n",
    "    ax.set_title(f'IDW Interpolation for Month {month_name}')\n",
    "    ax.legend()\n",
    "    plt.show()\n"
   ]
  },
  {
   "cell_type": "markdown",
   "metadata": {},
   "source": [
    "Another method\n"
   ]
  },
  {
   "cell_type": "code",
   "execution_count": null,
   "metadata": {},
   "outputs": [],
   "source": []
  }
 ],
 "metadata": {
  "kernelspec": {
   "display_name": "Python 3",
   "language": "python",
   "name": "python3"
  },
  "language_info": {
   "codemirror_mode": {
    "name": "ipython",
    "version": 3
   },
   "file_extension": ".py",
   "mimetype": "text/x-python",
   "name": "python",
   "nbconvert_exporter": "python",
   "pygments_lexer": "ipython3",
   "version": "3.11.9"
  }
 },
 "nbformat": 4,
 "nbformat_minor": 2
}
